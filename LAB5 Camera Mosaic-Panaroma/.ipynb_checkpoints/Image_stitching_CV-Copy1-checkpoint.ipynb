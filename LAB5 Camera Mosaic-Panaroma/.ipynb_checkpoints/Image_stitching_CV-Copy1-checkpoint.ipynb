{
 "cells": [
  {
   "cell_type": "code",
   "execution_count": 27,
   "id": "d1c8b556-53a1-42bb-a51e-b4a4d231827f",
   "metadata": {},
   "outputs": [],
   "source": [
    "# Import necessary libraries\n",
    "import cv2\n",
    "import numpy as np\n",
    "import matplotlib.pyplot as plt\n",
    "%matplotlib inline\n"
   ]
  },
  {
   "cell_type": "code",
   "execution_count": 29,
   "id": "2234e009-e53c-42ca-9ac6-b178b5bca7fa",
   "metadata": {},
   "outputs": [
    {
     "name": "stdout",
     "output_type": "stream",
     "text": [
      "Warning: Unable to load image at path /path/to/image_1.jpg\n",
      "Warning: Unable to load image at path /path/to/image_2.jpg\n",
      "Warning: Unable to load image at path /path/to/image_3.jpg\n",
      "Warning: Unable to load image at path /path/to/image_4.jpg\n",
      "Warning: Unable to load image at path /path/to/image_5.jpg\n",
      "Warning: Unable to load image at path /path/to/image_6.jpg\n"
     ]
    }
   ],
   "source": [
    "# Load images from paths and convert to RGB\n",
    "def load_images(image_paths):\n",
    "    images = []\n",
    "    for path in image_paths:\n",
    "        img = cv2.imread(path)\n",
    "        if img is None:\n",
    "            print(f\"Warning: Unable to load image at path {path}\")\n",
    "            continue\n",
    "        img = cv2.cvtColor(img, cv2.COLOR_BGR2RGB)\n",
    "        images.append(img)\n",
    "    return images\n",
    "\n",
    "# Define the image paths (replace with your actual paths)\n",
    "image_paths = [\n",
    "    \n",
    "    r\"C:\\Users\\ragsh\\Desktop\\FALL 24\\RSN\\LAB5\\data-2\\image_1.jpg\",\n",
    "    r\"C:\\Users\\ragsh\\Desktop\\FALL 24\\RSN\\LAB5\\data-2\\image_2.jpg\",\n",
    "    r\"C:\\Users\\ragsh\\Desktop\\FALL 24\\RSN\\LAB5\\data-2\\image_3.jpg\",\n",
    "    r\"C:\\Users\\ragsh\\Desktop\\FALL 24\\RSN\\LAB5\\data-2\\image_4.jpg\",\n",
    "    r\"C:\\Users\\ragsh\\Desktop\\FALL 24\\RSN\\LAB5\\data-2\\image_5.jpg\",\n",
    "    r\"C:\\Users\\ragsh\\Desktop\\FALL 24\\RSN\\LAB5\\data-2\\image_6.jpg\"\n",
    "]\n",
    "\n",
    "# Load and display images\n",
    "images = load_images(image_paths)\n",
    "for i, img in enumerate(images):\n",
    "    plt.figure(figsize=(5, 5))\n",
    "    plt.imshow(img)\n",
    "    plt.title(f\"Image {i+1}\")\n",
    "    plt.axis(\"off\")\n",
    "    plt.show()\n"
   ]
  },
  {
   "cell_type": "code",
   "execution_count": null,
   "id": "dd4c8231-4c7f-4b29-b61b-741119f6d9ae",
   "metadata": {},
   "outputs": [],
   "source": []
  }
 ],
 "metadata": {
  "kernelspec": {
   "display_name": "Python 3 (ipykernel)",
   "language": "python",
   "name": "python3"
  },
  "language_info": {
   "codemirror_mode": {
    "name": "ipython",
    "version": 3
   },
   "file_extension": ".py",
   "mimetype": "text/x-python",
   "name": "python",
   "nbconvert_exporter": "python",
   "pygments_lexer": "ipython3",
   "version": "3.12.5"
  }
 },
 "nbformat": 4,
 "nbformat_minor": 5
}
